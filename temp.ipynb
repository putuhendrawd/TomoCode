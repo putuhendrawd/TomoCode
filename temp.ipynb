{
 "cells": [
  {
   "cell_type": "code",
   "execution_count": 1,
   "metadata": {},
   "outputs": [],
   "source": [
    "import numpy as np\n",
    "import pandas as pd\n",
    "import matplotlib.pyplot as plt\n",
    "from localfunction import *\n",
    "from pathlib import Path\n"
   ]
  },
  {
   "cell_type": "code",
   "execution_count": 2,
   "metadata": {},
   "outputs": [],
   "source": [
    "path = \"G:\\\\My Drive\\\\Tomography\\\\110723\\\\data-fase-indoburma-11072023-convert\\\\\"\n",
    "fname = \"phase-indoburma-3-fixed_filter5sta_plusehb_filter_sta_rms_stasiunfilter.dat\""
   ]
  },
  {
   "cell_type": "code",
   "execution_count": 3,
   "metadata": {},
   "outputs": [
    {
     "name": "stdout",
     "output_type": "stream",
     "text": [
      "! phase-indoburma-3-fixed_filter5sta_plusehb_filter_sta_rms_stasiunfilter.dat\n",
      "---------------------------\n",
      "start time        : 1964-01-22 15:58:43.700000\n",
      "end time          : 2020-01-23 09:48:04.910000\n",
      "minimum magnitude : 2.1\n",
      "maximum magnitude : 7.9\n",
      "minimum depth     : 0 km\n",
      "maximum depth     : 271 km\n",
      "station used      : 162\n",
      "---------------------------\n",
      "Event :   3244\n",
      "Phase :  45911\n",
      "-- P  :  40028\n",
      "-- S  :   5883\n",
      "---------------------------\n"
     ]
    }
   ],
   "source": [
    "readeventphase(path+fname)"
   ]
  }
 ],
 "metadata": {
  "kernelspec": {
   "display_name": "geo_env",
   "language": "python",
   "name": "python3"
  },
  "language_info": {
   "codemirror_mode": {
    "name": "ipython",
    "version": 3
   },
   "file_extension": ".py",
   "mimetype": "text/x-python",
   "name": "python",
   "nbconvert_exporter": "python",
   "pygments_lexer": "ipython3",
   "version": "3.9.9"
  },
  "orig_nbformat": 4,
  "vscode": {
   "interpreter": {
    "hash": "7cd9f3d74a51e72086e77b3ce90e589f910722e5e51eb1f41674a3c810498522"
   }
  }
 },
 "nbformat": 4,
 "nbformat_minor": 2
}
