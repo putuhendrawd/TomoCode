{
 "cells": [
  {
   "cell_type": "code",
   "execution_count": 1,
   "metadata": {},
   "outputs": [],
   "source": [
    "import numpy as np\n",
    "import pandas as pd\n",
    "import matplotlib.pyplot as plt\n",
    "from localfunction import *\n",
    "from pathlib import Path\n",
    "import pygmt"
   ]
  },
  {
   "cell_type": "code",
   "execution_count": 2,
   "metadata": {},
   "outputs": [],
   "source": [
    "path = \"G:\\\\My Drive\\\\Tomography\\\\110723\\\\data-fase-indoburma-11072023-convert\\\\\"\n",
    "fname = \"phase-indoburma-3-fixed_filter5sta_plusehb_filter_sta_rms_stasiunfilter.dat\""
   ]
  },
  {
   "cell_type": "code",
   "execution_count": 4,
   "metadata": {},
   "outputs": [
    {
     "name": "stdout",
     "output_type": "stream",
     "text": [
      "PyGMT information:\n",
      "  version: v0.8.0\n",
      "System information:\n",
      "  python: 3.9.9 | packaged by conda-forge | (main, Dec 20 2021, 02:36:06) [MSC v.1929 64 bit (AMD64)]\n",
      "  executable: c:\\Users\\UX425IA\\.conda\\envs\\geo_env\\python.exe\n",
      "  machine: Windows-10-10.0.22621-SP0\n",
      "Dependency information:\n",
      "  numpy: 1.24.1\n",
      "  pandas: 1.5.2\n",
      "  xarray: 2022.12.0\n",
      "  netCDF4: 1.6.0\n",
      "  packaging: 22.0\n",
      "  geopandas: 0.10.2\n",
      "  ghostscript: 9.54.0\n",
      "GMT library information:\n",
      "  cores: 6\n",
      "  grid layout: rows\n",
      "  library path: C:/Users/UX425IA/.conda/envs/geo_env/Library/bin/gmt.dll\n",
      "  padding: 2\n",
      "  plugin dir: C:/Users/UX425IA/.conda/envs/geo_env/Library/bin/gmt_plugins\n",
      "  share dir: c:/programs/gmt6/share\n",
      "  version: 6.3.0\n"
     ]
    }
   ],
   "source": [
    "pygmt.show_versions()"
   ]
  }
 ],
 "metadata": {
  "kernelspec": {
   "display_name": "geo_env",
   "language": "python",
   "name": "python3"
  },
  "language_info": {
   "codemirror_mode": {
    "name": "ipython",
    "version": 3
   },
   "file_extension": ".py",
   "mimetype": "text/x-python",
   "name": "python",
   "nbconvert_exporter": "python",
   "pygments_lexer": "ipython3",
   "version": "3.9.9"
  },
  "orig_nbformat": 4,
  "vscode": {
   "interpreter": {
    "hash": "7cd9f3d74a51e72086e77b3ce90e589f910722e5e51eb1f41674a3c810498522"
   }
  }
 },
 "nbformat": 4,
 "nbformat_minor": 2
}
