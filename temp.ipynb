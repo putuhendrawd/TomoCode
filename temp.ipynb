{
 "cells": [
  {
   "cell_type": "code",
   "execution_count": 1,
   "metadata": {},
   "outputs": [
    {
     "data": {
      "text/plain": [
       "'\\nCoding: PYTHON UTF-8\\nCreated On: 2023-05-02 14:53:08\\nAuthor: Putu Hendra Widyadharma\\n=== update pha with .reloc parameter\\n'"
      ]
     },
     "execution_count": 1,
     "metadata": {},
     "output_type": "execute_result"
    }
   ],
   "source": [
    "'''\n",
    "Coding: PYTHON UTF-8\n",
    "Created On: 2023-05-02 14:53:08\n",
    "Author: Putu Hendra Widyadharma\n",
    "=== update pha with .reloc parameter\n",
    "'''"
   ]
  },
  {
   "cell_type": "code",
   "execution_count": 23,
   "metadata": {},
   "outputs": [],
   "source": [
    "import numpy as np\n",
    "import pandas as pd\n",
    "from localfunction import *\n"
   ]
  },
  {
   "cell_type": "code",
   "execution_count": 52,
   "metadata": {},
   "outputs": [],
   "source": [
    "path=\"G:\\\\My Drive\\\\Tomography\\\\020523\\\\update_parameter_reloc\\\\\"\n",
    "fname= \"phase_sul_2022_8P_wadatifilter.dat\"\n",
    "relocname = \"tomoDD.reloc\"\n",
    "df=readabsolute(path+fname)\n",
    "relocdf = pd.read_csv(path+relocname, delim_whitespace=True, index_col=False, header=None)"
   ]
  },
  {
   "cell_type": "code",
   "execution_count": null,
   "metadata": {},
   "outputs": [],
   "source": [
    "# iterables\n",
    "dfhead = df[df[0]==\"#\"]\n",
    "idx = dfhead.index\n",
    "tempheader = df[df[0] == '#']\n",
    "tempdata = pd.DataFrame([],columns = df.columns)\n",
    "\n",
    "# filter header\n",
    "evid_reloc = relocdf[0]\n",
    "# cari event yang ada pada .reloc\n",
    "dfhead[15] = dfhead[14].astype(int).isin(evid_reloc.to_list())\n",
    "dfhead = dfhead[dfhead[15]==True]\n",
    "\n",
    "\n",
    "#processing\n",
    "for a in range (len(idx)):\n",
    "    #buat data per kejadian gempa\n",
    "    if a == len(idx)-1:\n",
    "        if idx[a] in dfhead.index:\n",
    "            #ubah header\n",
    "            tempheader=\n",
    "            #ubah data\n",
    "            tempdf = df.iloc[idx[a]::]\n",
    "        else:\n",
    "            tempheader.drop(idx[a], inplace = True)\n",
    "            continue\n",
    "    else:\n",
    "        if idx[a] in dfhead.index:\n",
    "            #ubah header\n",
    "            tempheader=\n",
    "            #ubah data \n",
    "            tempdf = df.iloc[idx[a]:idx[a+1],:]\n",
    "        else:\n",
    "            tempheader.drop(idx[a], inplace = True)\n",
    "            continue"
   ]
  },
  {
   "cell_type": "code",
   "execution_count": 97,
   "metadata": {},
   "outputs": [
    {
     "data": {
      "text/plain": [
       "10421"
      ]
     },
     "execution_count": 97,
     "metadata": {},
     "output_type": "execute_result"
    }
   ],
   "source": [
    "len(dfhead)"
   ]
  },
  {
   "cell_type": "code",
   "execution_count": 98,
   "metadata": {},
   "outputs": [
    {
     "data": {
      "text/plain": [
       "10407"
      ]
     },
     "execution_count": 98,
     "metadata": {},
     "output_type": "execute_result"
    }
   ],
   "source": [
    "len(relocdf)"
   ]
  }
 ],
 "metadata": {
  "kernelspec": {
   "display_name": "geo_env",
   "language": "python",
   "name": "python3"
  },
  "language_info": {
   "codemirror_mode": {
    "name": "ipython",
    "version": 3
   },
   "file_extension": ".py",
   "mimetype": "text/x-python",
   "name": "python",
   "nbconvert_exporter": "python",
   "pygments_lexer": "ipython3",
   "version": "3.9.9"
  },
  "orig_nbformat": 4,
  "vscode": {
   "interpreter": {
    "hash": "7cd9f3d74a51e72086e77b3ce90e589f910722e5e51eb1f41674a3c810498522"
   }
  }
 },
 "nbformat": 4,
 "nbformat_minor": 2
}
