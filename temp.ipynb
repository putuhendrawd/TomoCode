{
 "cells": [
  {
   "cell_type": "code",
   "execution_count": 1,
   "metadata": {},
   "outputs": [
    {
     "data": {
      "text/plain": [
       "'\\nCoding: PYTHON UTF-8\\nCreated On: 2023-05-02 14:53:08\\nAuthor: Putu Hendra Widyadharma\\n=== update pha with .reloc parameter\\n'"
      ]
     },
     "execution_count": 1,
     "metadata": {},
     "output_type": "execute_result"
    }
   ],
   "source": [
    "'''\n",
    "Coding: PYTHON UTF-8\n",
    "Created On: 2023-05-02 14:53:08\n",
    "Author: Putu Hendra Widyadharma\n",
    "=== update pha with .reloc parameter\n",
    "'''"
   ]
  },
  {
   "cell_type": "code",
   "execution_count": 2,
   "metadata": {},
   "outputs": [],
   "source": [
    "import numpy as np\n",
    "import pandas as pd\n",
    "from localfunction import *\n",
    "from tqdm import trange\n"
   ]
  },
  {
   "cell_type": "code",
   "execution_count": 3,
   "metadata": {},
   "outputs": [],
   "source": [
    "path=\"G:\\\\My Drive\\\\Tomography\\\\020523\\\\update_parameter_reloc\\\\\"\n",
    "fname= \"phase_sul_2022_8P_wadatifilter.dat\"\n",
    "relocname = \"tomoDD.reloc\"\n",
    "df=readabsolute(path+fname)\n",
    "relocdf = pd.read_csv(path+relocname, delim_whitespace=True, index_col=False, header=None,\\\n",
    "    names=\"ID, LAT, LON, DEPTH, X, Y, Z, EX, EY, EZ, YR, MO, DY, HR, MI, SC, MAG, NCCP, NCTP, NCTS, RCC, RCT, CID, UNKNOWN\".replace(\" \",\"\").split(\",\"))"
   ]
  },
  {
   "cell_type": "code",
   "execution_count": 4,
   "metadata": {},
   "outputs": [
    {
     "name": "stderr",
     "output_type": "stream",
     "text": [
      "  1%|          | 57/10421 [00:00<00:53, 194.32it/s]"
     ]
    },
    {
     "name": "stdout",
     "output_type": "stream",
     "text": [
      "event id --> 23 !!! not in reloc\n"
     ]
    },
    {
     "name": "stderr",
     "output_type": "stream",
     "text": [
      " 27%|██▋       | 2762/10421 [00:18<01:04, 119.44it/s]"
     ]
    },
    {
     "name": "stdout",
     "output_type": "stream",
     "text": [
      "event id --> 2741 !!! not in reloc\n"
     ]
    },
    {
     "name": "stderr",
     "output_type": "stream",
     "text": [
      " 27%|██▋       | 2799/10421 [00:18<01:13, 103.68it/s]"
     ]
    },
    {
     "name": "stdout",
     "output_type": "stream",
     "text": [
      "event id --> 2788 !!! not in reloc\n"
     ]
    },
    {
     "name": "stderr",
     "output_type": "stream",
     "text": [
      " 30%|██▉       | 3082/10421 [00:21<01:09, 105.02it/s]"
     ]
    },
    {
     "name": "stdout",
     "output_type": "stream",
     "text": [
      "event id --> 3062 !!! not in reloc\n"
     ]
    },
    {
     "name": "stderr",
     "output_type": "stream",
     "text": [
      " 30%|██▉       | 3115/10421 [00:21<01:13, 98.86it/s] "
     ]
    },
    {
     "name": "stdout",
     "output_type": "stream",
     "text": [
      "event id --> 3101 !!! not in reloc\n"
     ]
    },
    {
     "name": "stderr",
     "output_type": "stream",
     "text": [
      " 31%|███       | 3180/10421 [00:22<01:11, 101.89it/s]"
     ]
    },
    {
     "name": "stdout",
     "output_type": "stream",
     "text": [
      "event id --> 3163 !!! not in reloc\n"
     ]
    },
    {
     "name": "stderr",
     "output_type": "stream",
     "text": [
      " 31%|███       | 3213/10421 [00:22<01:11, 100.73it/s]"
     ]
    },
    {
     "name": "stdout",
     "output_type": "stream",
     "text": [
      "event id --> 3199 !!! not in reloc\n"
     ]
    },
    {
     "name": "stderr",
     "output_type": "stream",
     "text": [
      " 38%|███▊      | 3941/10421 [00:30<01:10, 91.56it/s] "
     ]
    },
    {
     "name": "stdout",
     "output_type": "stream",
     "text": [
      "event id --> 3928 !!! not in reloc\n"
     ]
    },
    {
     "name": "stderr",
     "output_type": "stream",
     "text": [
      " 38%|███▊      | 3997/10421 [00:31<01:23, 77.21it/s]"
     ]
    },
    {
     "name": "stdout",
     "output_type": "stream",
     "text": [
      "event id --> 3987 !!! not in reloc\n"
     ]
    },
    {
     "name": "stderr",
     "output_type": "stream",
     "text": [
      " 44%|████▍     | 4635/10421 [00:39<01:12, 79.94it/s]"
     ]
    },
    {
     "name": "stdout",
     "output_type": "stream",
     "text": [
      "event id --> 4624 !!! not in reloc\n"
     ]
    },
    {
     "name": "stderr",
     "output_type": "stream",
     "text": [
      " 51%|█████     | 5321/10421 [00:51<01:10, 72.79it/s]"
     ]
    },
    {
     "name": "stdout",
     "output_type": "stream",
     "text": [
      "event id --> 5314 !!! not in reloc\n",
      "event id --> 5316 !!! not in reloc\n"
     ]
    },
    {
     "name": "stderr",
     "output_type": "stream",
     "text": [
      " 57%|█████▋    | 5926/10421 [01:01<01:14, 60.04it/s]"
     ]
    },
    {
     "name": "stdout",
     "output_type": "stream",
     "text": [
      "event id --> 5917 !!! not in reloc\n"
     ]
    },
    {
     "name": "stderr",
     "output_type": "stream",
     "text": [
      " 88%|████████▊ | 9149/10421 [02:14<00:35, 35.64it/s]"
     ]
    },
    {
     "name": "stdout",
     "output_type": "stream",
     "text": [
      "event id --> 9144 !!! not in reloc\n"
     ]
    },
    {
     "name": "stderr",
     "output_type": "stream",
     "text": [
      "100%|██████████| 10421/10421 [02:51<00:00, 60.79it/s]\n"
     ]
    },
    {
     "name": "stdout",
     "output_type": "stream",
     "text": [
      "Output finish: relocupdate_phase_sul_2022_8P_wadatifilter.dat at G:\\My Drive\\Tomography\\020523\\update_parameter_reloc\\\n",
      "total iter = 10407\n"
     ]
    }
   ],
   "source": [
    "# iterables\n",
    "idx = df[df[0]==\"#\"].index\n",
    "tempdata = pd.DataFrame([],columns = df.columns)\n",
    "i=0\n",
    "for iter in range(len(idx)):\n",
    "    #grab data\n",
    "    if iter == len(idx)-1: # last iteration \n",
    "        tempdf = df.iloc[idx[iter]::]\n",
    "        if int(tempdf.iloc[0,14]) in (relocdf['ID'].astype(int).to_list()):\n",
    "            temp = relocdf[relocdf['ID'] == int(tempdf.iloc[0,14])]\n",
    "            # print(f\"(last iter) event id --> {tempdf.iloc[0,14]} in reloc\")\n",
    "        else:\n",
    "            print(f\"(last iter) event id --> {tempdf.iloc[0,14]} !!! not in reloc\")\n",
    "            continue\n",
    "    else: # iter 1 - (n-1)\n",
    "        tempdf = df.iloc[idx[iter]:idx[iter+1]]\n",
    "        if int(tempdf.iloc[0,14]) in (relocdf['ID'].astype(int).to_list()):\n",
    "            temp = relocdf[relocdf['ID'] == int(tempdf.iloc[0,14])]\n",
    "            # print(f\"event id --> {tempdf.iloc[0,14]} in reloc\")\n",
    "        else:\n",
    "            print(f\"event id --> {tempdf.iloc[0,14]} !!! not in reloc\")\n",
    "            continue\n",
    "    \n",
    "    #process the data\n",
    "    #ubah header\n",
    "    tempdf.iloc[0,1] = temp['YR'].values[0] #year\n",
    "    tempdf.iloc[0,2] = temp['MO'].values[0] #month\n",
    "    tempdf.iloc[0,3] = temp['DY'].values[0] #day\n",
    "    tempdf.iloc[0,4] = temp['HR'].values[0] #hour\n",
    "    tempdf.iloc[0,5] = temp['MI'].values[0] #minute\n",
    "    tempdf.iloc[0,6] = temp['SC'].values[0] #second,msec\n",
    "    tempdf.iloc[0,7] = temp['LAT'].values[0] #lat\n",
    "    tempdf.iloc[0,8] = temp['LON'].values[0] #lon\n",
    "    tempdf.iloc[0,9] = temp['DEPTH'].values[0] #depth\n",
    "    # tempdf.iloc[0,10]= temp['MAG'].values[0] #mag\n",
    "    \n",
    "    #gabungkan data\n",
    "    tempdata=pd.concat([tempdata,tempdf])\n",
    "    i+=1\n",
    "\n",
    "# reset and sort index\n",
    "tempdata.sort_index(inplace = True)\n",
    "tempdata.reset_index(inplace = True, drop = True)\n",
    "\n",
    "#output df\n",
    "df2dat(tempdata,evnum = 1, path = path, fname=f\"relocupdate_\"+Path(fname).name)\n",
    "print(f\"total iter = {i}\")"
   ]
  },
  {
   "cell_type": "code",
   "execution_count": null,
   "metadata": {},
   "outputs": [],
   "source": [
    "tempdf"
   ]
  },
  {
   "cell_type": "code",
   "execution_count": null,
   "metadata": {},
   "outputs": [],
   "source": [
    "idx = df[df[0]==\"#\"].index\n",
    "tempdf = df[df[0] == \"#\"]\n",
    "tempdata = pd.DataFrame([],columns = df.columns)"
   ]
  },
  {
   "cell_type": "code",
   "execution_count": null,
   "metadata": {},
   "outputs": [],
   "source": [
    "# iterables\n",
    "tempheader = df[df[0] == \"#\"]\n",
    "tempdata = pd.DataFrame([],columns = df.columns)\n",
    "\n",
    "idx = tempheader.index\n",
    "for i in tempheader.index:\n",
    "    try:\n",
    "        tempdf = df.iloc[idx[a]+1:idx[a+1],:]"
   ]
  },
  {
   "cell_type": "code",
   "execution_count": null,
   "metadata": {},
   "outputs": [],
   "source": [
    "# iterables\n",
    "# dfhead = df[df[0]==\"#\"]\n",
    "tempheader = df[df[0] == \"#\"]\n",
    "tempdata = pd.DataFrame([],columns = df.columns)\n",
    "\n",
    "# filter header\n",
    "# cari event yang ada pada .reloc\n",
    "# dfhead[15] = dfhead[14].astype('int64').isin(relocdf[\"ID\"].astype('int64').to_list())\n",
    "# dfhead = dfhead[dfhead[15]==True]\n",
    "idx = tempheader.index\n",
    "\n",
    "#processing\n",
    "for a in range tempheader.index:\n",
    "    #buat data per kejadian gempa\n",
    "    if a == len(idx)-1:\n",
    "        try:\n",
    "            temp = relocdf[relocdf['ID'] == int(tempheader.iloc[idx[a],14])]\n",
    "            #ubah header\n",
    "            tempheader.iloc[idx[a],1] = temp['YR'].values[0] #year\n",
    "            tempheader.iloc[idx[a],2] = temp['MO'].values[0] #month\n",
    "            tempheader.iloc[idx[a],3] = temp['DY'].values[0] #day\n",
    "            tempheader.iloc[idx[a],4] = temp['HR'].values[0] #hour\n",
    "            tempheader.iloc[idx[a],5] = temp['MI'].values[0] #minute\n",
    "            tempheader.iloc[idx[a],6] = temp['SC'].values[0] #second,msec\n",
    "            tempheader.iloc[idx[a],7] = temp['LAT'].values[0] #lat\n",
    "            tempheader.iloc[idx[a],8] = temp['LON'].values[0] #lon\n",
    "            tempheader.iloc[idx[a],9] = temp['DEPTH'].values[0] #depth\n",
    "            tempheader.iloc[idx[a],10]= temp['MAG'].values[0] #mag\n",
    "            #ubah data\n",
    "            tempdf = df.iloc[idx[a]+1::]\n",
    "        except:\n",
    "            print(f'event index {idx[a]} not available in relocdf data')\n",
    "            # tempheader.drop(idx[a], inplace = True)\n",
    "    else:\n",
    "        try:\n",
    "            temp = relocdf[relocdf['ID'] == int(tempheader.iloc[idx[a],14])]\n",
    "            #ubah header\n",
    "            tempheader.iloc[idx[a],1] = temp['YR'].values[0] #year\n",
    "            tempheader.iloc[idx[a],2] = temp['MO'].values[0] #month\n",
    "            tempheader.iloc[idx[a],3] = temp['DY'].values[0] #day\n",
    "            tempheader.iloc[idx[a],4] = temp['HR'].values[0] #hour\n",
    "            tempheader.iloc[idx[a],5] = temp['MI'].values[0] #minute\n",
    "            tempheader.iloc[idx[a],6] = temp['SC'].values[0] #second,msec\n",
    "            tempheader.iloc[idx[a],7] = temp['LAT'].values[0] #lat\n",
    "            tempheader.iloc[idx[a],8] = temp['LON'].values[0] #lon\n",
    "            tempheader.iloc[idx[a],9] = temp['DEPTH'].values[0] #depth\n",
    "            tempheader.iloc[idx[a],10]= temp['MAG'].values[0] #mag\n",
    "            #ubah data \n",
    "            tempdf = df.iloc[idx[a]+1:idx[a+1],:]\n",
    "        except:\n",
    "            print(f'event index {idx[a]} not available in relocdf data')\n",
    "            # tempheader.drop(idx[a], inplace = True)\n",
    "    tempdata=pd.concat([tempdata,tempdf])\n",
    "    \n",
    "#remake df to filtered df\n",
    "tempdata=pd.concat([tempdata,tempheader])\n",
    "tempdata.sort_index(inplace = True)\n",
    "tempdata.reset_index(inplace = True, drop = True)\n",
    "\n",
    "#output df\n",
    "df2dat(tempdata,evnum = 1, path = path, fname=f\"relocupdate_\"+Path(fname).name)"
   ]
  },
  {
   "cell_type": "code",
   "execution_count": null,
   "metadata": {},
   "outputs": [],
   "source": [
    "mu, sigma = 0, 0.1 # mean and standard deviation\n",
    "s = np.random.normal(mu, sigma, 1000)\n",
    "import matplotlib.pyplot as plt\n",
    "count, bins, ignored = plt.hist(s, 30, density=True)\n",
    "plt.plot(bins, 1/(sigma * np.sqrt(2 * np.pi)) *\n",
    "               np.exp( - (bins - mu)**2 / (2 * sigma**2) ),\n",
    "         linewidth=2, color='r')\n",
    "plt.show()"
   ]
  }
 ],
 "metadata": {
  "kernelspec": {
   "display_name": "geo_env",
   "language": "python",
   "name": "python3"
  },
  "language_info": {
   "codemirror_mode": {
    "name": "ipython",
    "version": 3
   },
   "file_extension": ".py",
   "mimetype": "text/x-python",
   "name": "python",
   "nbconvert_exporter": "python",
   "pygments_lexer": "ipython3",
   "version": "3.9.9"
  },
  "orig_nbformat": 4,
  "vscode": {
   "interpreter": {
    "hash": "7cd9f3d74a51e72086e77b3ce90e589f910722e5e51eb1f41674a3c810498522"
   }
  }
 },
 "nbformat": 4,
 "nbformat_minor": 2
}
