{
 "cells": [
  {
   "cell_type": "code",
   "execution_count": 1,
   "metadata": {},
   "outputs": [
    {
     "data": {
      "text/plain": [
       "'\\nCoding: PYTHON UTF-8\\nCreated On: 2023-07-09 18:51:50\\nAuthor: Putu Hendra Widyadharma\\n=== compare .res before relocation and after relocation to have same event pairs\\n'"
      ]
     },
     "execution_count": 1,
     "metadata": {},
     "output_type": "execute_result"
    }
   ],
   "source": [
    "'''\n",
    "Coding: PYTHON UTF-8\n",
    "Created On: 2023-07-09 18:51:50\n",
    "Author: Putu Hendra Widyadharma\n",
    "=== compare .res before relocation and after relocation to have same event pairs\n",
    "'''"
   ]
  },
  {
   "cell_type": "code",
   "execution_count": 2,
   "metadata": {},
   "outputs": [],
   "source": [
    "import numpy as np\n",
    "import pandas as pd\n",
    "import matplotlib.pyplot as plt\n",
    "from localfunction import *\n",
    "from pathlib import Path\n"
   ]
  },
  {
   "cell_type": "code",
   "execution_count": 3,
   "metadata": {},
   "outputs": [],
   "source": [
    "path = \"G:\\\\My Drive\\\\IUGG Seminar\\\\data\\\\data_poster\\\\reloc_ttdistfilter\\\\tes-250\\\\\"\n",
    "res_before_fname = \"hypoDD_before.res\"\n",
    "res_after_fname = \"hypoDD.res\""
   ]
  },
  {
   "cell_type": "code",
   "execution_count": 4,
   "metadata": {},
   "outputs": [],
   "source": [
    "def data(fname):\n",
    "\ttry:\n",
    "\t\tfile = open(path+fname,'r')\n",
    "\t\tbaris = file.readlines()\n",
    "\t\tfor i in range(len(baris)):\n",
    "\t\t\tbaris[i]=baris[i].split()\n",
    "\t\tfile.close()\n",
    "\n",
    "\n",
    "\t\tdf = pd.DataFrame(baris, columns = baris[0])\n",
    "\t\tdf.drop(0, inplace = True)\n",
    "\t\tdf.reset_index(drop = True, inplace=True)\n",
    "\n",
    "\t\t# df = df[df['C1'] == df['C2']]\n",
    "\t\tdf = df[df['RES'] != '************']\n",
    "\t\tdf['RES'] = pd.to_numeric(df['RES'])\n",
    "\t\tdf['RES'] = df['RES'].div(1000)\n",
    "\n",
    "\t\t#df = df[df['RES'] < 15]\n",
    "\t\tprint(\"read file success\")\n",
    "\t\treturn (df)\n",
    "\texcept:\n",
    "\t\tprint(\"file could not be loaded, return zero dataframe\")\n",
    "\t\treturn(pd.DataFrame([]))"
   ]
  },
  {
   "cell_type": "code",
   "execution_count": 5,
   "metadata": {},
   "outputs": [
    {
     "name": "stdout",
     "output_type": "stream",
     "text": [
      "==read before\n",
      "read file success\n",
      "==read after\n",
      "read file success\n",
      "== dataframe output created\n"
     ]
    }
   ],
   "source": [
    "print(\"==read before\")\n",
    "df1 = data(res_before_fname) # df to be compared\n",
    "print(\"==read after\")\n",
    "df2 = data(res_after_fname)\n",
    "\n",
    "df_result = pd.DataFrame(columns=df1.columns)\n",
    "print(\"== dataframe output created\")"
   ]
  },
  {
   "cell_type": "code",
   "execution_count": 22,
   "metadata": {},
   "outputs": [
    {
     "name": "stdout",
     "output_type": "stream",
     "text": [
      "== dataframe output created\n"
     ]
    }
   ],
   "source": [
    "df_result = pd.DataFrame(columns=df1.columns)\n",
    "print(\"== dataframe output created\")"
   ]
  },
  {
   "cell_type": "code",
   "execution_count": 9,
   "metadata": {},
   "outputs": [],
   "source": [
    "df1 = df1[:11]\n",
    "df2 = df2[:11]"
   ]
  },
  {
   "cell_type": "code",
   "execution_count": 23,
   "metadata": {},
   "outputs": [
    {
     "name": "stdout",
     "output_type": "stream",
     "text": [
      "row1 number 0 not dropped\n",
      "row1 number 1 not dropped\n",
      "row1 number 2 not dropped\n",
      "row1 number 4 not dropped\n",
      "row1 number 5 not dropped\n",
      "row1 number 6 not dropped\n",
      "row1 number 7 not dropped\n",
      "row1 number 8 not dropped\n",
      "row1 number 9 not dropped\n",
      "row1 number 10 not dropped\n"
     ]
    }
   ],
   "source": [
    "# compare\n",
    "for i, row1 in df1.iterrows():\n",
    "    for j, row2 in df2.iterrows():\n",
    "        if ((row1['STA'] == row2['STA']) and \n",
    "            (row1['C1'] == row2['C1']) and \n",
    "            (row1['C2'] == row2['C2']) and\n",
    "            (row1['IDX'] == row2['IDX'])):\n",
    "            print(f\"row1 number {i} not dropped\")\n",
    "            df_result = pd.concat([df_result,row1.to_frame().T],ignore_index=True)\n",
    "            break\n",
    "        else:\n",
    "            pass"
   ]
  },
  {
   "cell_type": "code",
   "execution_count": 29,
   "metadata": {},
   "outputs": [
    {
     "data": {
      "text/html": [
       "<div>\n",
       "<style scoped>\n",
       "    .dataframe tbody tr th:only-of-type {\n",
       "        vertical-align: middle;\n",
       "    }\n",
       "\n",
       "    .dataframe tbody tr th {\n",
       "        vertical-align: top;\n",
       "    }\n",
       "\n",
       "    .dataframe thead th {\n",
       "        text-align: right;\n",
       "    }\n",
       "</style>\n",
       "<table border=\"1\" class=\"dataframe\">\n",
       "  <thead>\n",
       "    <tr style=\"text-align: right;\">\n",
       "      <th></th>\n",
       "      <th>STA</th>\n",
       "      <th>DT</th>\n",
       "      <th>C1</th>\n",
       "      <th>C2</th>\n",
       "      <th>IDX</th>\n",
       "      <th>QUAL</th>\n",
       "      <th>RES [ms]</th>\n",
       "      <th>WT</th>\n",
       "      <th>OFFS</th>\n",
       "    </tr>\n",
       "  </thead>\n",
       "  <tbody>\n",
       "    <tr>\n",
       "      <th>0</th>\n",
       "      <td>BM94</td>\n",
       "      <td>1.1100001</td>\n",
       "      <td>1</td>\n",
       "      <td>2</td>\n",
       "      <td>3</td>\n",
       "      <td>1.0000</td>\n",
       "      <td>0.23409</td>\n",
       "      <td>1.000000</td>\n",
       "      <td>5577.1</td>\n",
       "    </tr>\n",
       "    <tr>\n",
       "      <th>1</th>\n",
       "      <td>BM94</td>\n",
       "      <td>1.7100000</td>\n",
       "      <td>1</td>\n",
       "      <td>2</td>\n",
       "      <td>4</td>\n",
       "      <td>1.0000</td>\n",
       "      <td>0.217792</td>\n",
       "      <td>0.500000</td>\n",
       "      <td>5577.1</td>\n",
       "    </tr>\n",
       "    <tr>\n",
       "      <th>2</th>\n",
       "      <td>BM92</td>\n",
       "      <td>1.6900001</td>\n",
       "      <td>1</td>\n",
       "      <td>2</td>\n",
       "      <td>3</td>\n",
       "      <td>1.0000</td>\n",
       "      <td>0.701947</td>\n",
       "      <td>1.000000</td>\n",
       "      <td>5577.1</td>\n",
       "    </tr>\n",
       "    <tr>\n",
       "      <th>3</th>\n",
       "      <td>BM95</td>\n",
       "      <td>0.6900001</td>\n",
       "      <td>1</td>\n",
       "      <td>2</td>\n",
       "      <td>4</td>\n",
       "      <td>1.0000</td>\n",
       "      <td>-0.786863</td>\n",
       "      <td>0.500000</td>\n",
       "      <td>5577.1</td>\n",
       "    </tr>\n",
       "    <tr>\n",
       "      <th>4</th>\n",
       "      <td>BM95</td>\n",
       "      <td>0.8900001</td>\n",
       "      <td>1</td>\n",
       "      <td>2</td>\n",
       "      <td>3</td>\n",
       "      <td>1.0000</td>\n",
       "      <td>0.02296</td>\n",
       "      <td>1.000000</td>\n",
       "      <td>5577.1</td>\n",
       "    </tr>\n",
       "    <tr>\n",
       "      <th>5</th>\n",
       "      <td>BM96</td>\n",
       "      <td>0.9500000</td>\n",
       "      <td>1</td>\n",
       "      <td>2</td>\n",
       "      <td>3</td>\n",
       "      <td>1.0000</td>\n",
       "      <td>0.235039</td>\n",
       "      <td>1.000000</td>\n",
       "      <td>5577.1</td>\n",
       "    </tr>\n",
       "    <tr>\n",
       "      <th>6</th>\n",
       "      <td>BM96</td>\n",
       "      <td>0.8099999</td>\n",
       "      <td>1</td>\n",
       "      <td>2</td>\n",
       "      <td>4</td>\n",
       "      <td>1.0000</td>\n",
       "      <td>-0.403765</td>\n",
       "      <td>0.500000</td>\n",
       "      <td>5577.1</td>\n",
       "    </tr>\n",
       "    <tr>\n",
       "      <th>7</th>\n",
       "      <td>SCJM</td>\n",
       "      <td>0.4700003</td>\n",
       "      <td>1</td>\n",
       "      <td>2</td>\n",
       "      <td>4</td>\n",
       "      <td>1.0000</td>\n",
       "      <td>-0.415162</td>\n",
       "      <td>0.500000</td>\n",
       "      <td>5577.1</td>\n",
       "    </tr>\n",
       "    <tr>\n",
       "      <th>8</th>\n",
       "      <td>SCJM</td>\n",
       "      <td>0.7199998</td>\n",
       "      <td>1</td>\n",
       "      <td>2</td>\n",
       "      <td>3</td>\n",
       "      <td>1.0000</td>\n",
       "      <td>0.194983</td>\n",
       "      <td>1.000000</td>\n",
       "      <td>5577.1</td>\n",
       "    </tr>\n",
       "    <tr>\n",
       "      <th>9</th>\n",
       "      <td>CBJI</td>\n",
       "      <td>0.1600003</td>\n",
       "      <td>1</td>\n",
       "      <td>2</td>\n",
       "      <td>3</td>\n",
       "      <td>1.0000</td>\n",
       "      <td>-0.276385</td>\n",
       "      <td>1.000000</td>\n",
       "      <td>5577.1</td>\n",
       "    </tr>\n",
       "  </tbody>\n",
       "</table>\n",
       "</div>"
      ],
      "text/plain": [
       "    STA         DT C1 C2 IDX    QUAL  RES [ms]        WT    OFFS\n",
       "0  BM94  1.1100001  1  2   3  1.0000   0.23409  1.000000  5577.1\n",
       "1  BM94  1.7100000  1  2   4  1.0000  0.217792  0.500000  5577.1\n",
       "2  BM92  1.6900001  1  2   3  1.0000  0.701947  1.000000  5577.1\n",
       "3  BM95  0.6900001  1  2   4  1.0000 -0.786863  0.500000  5577.1\n",
       "4  BM95  0.8900001  1  2   3  1.0000   0.02296  1.000000  5577.1\n",
       "5  BM96  0.9500000  1  2   3  1.0000  0.235039  1.000000  5577.1\n",
       "6  BM96  0.8099999  1  2   4  1.0000 -0.403765  0.500000  5577.1\n",
       "7  SCJM  0.4700003  1  2   4  1.0000 -0.415162  0.500000  5577.1\n",
       "8  SCJM  0.7199998  1  2   3  1.0000  0.194983  1.000000  5577.1\n",
       "9  CBJI  0.1600003  1  2   3  1.0000 -0.276385  1.000000  5577.1"
      ]
     },
     "execution_count": 29,
     "metadata": {},
     "output_type": "execute_result"
    }
   ],
   "source": [
    "df_result"
   ]
  },
  {
   "cell_type": "code",
   "execution_count": 30,
   "metadata": {},
   "outputs": [],
   "source": [
    "#output\n",
    "df_result.drop(['OFFS'],axis=1,inplace=True)\n",
    "df_result.columns = ['STA', 'DT', 'C1', 'C2', 'IDX', 'QUAL', 'RES [ms]', 'WT', 'OFFS']\n",
    "df_result.to_csv(path+Path(res_before_fname).stem+'_filter.res',sep='\\t',index=None)"
   ]
  }
 ],
 "metadata": {
  "kernelspec": {
   "display_name": "geo_env",
   "language": "python",
   "name": "python3"
  },
  "language_info": {
   "codemirror_mode": {
    "name": "ipython",
    "version": 3
   },
   "file_extension": ".py",
   "mimetype": "text/x-python",
   "name": "python",
   "nbconvert_exporter": "python",
   "pygments_lexer": "ipython3",
   "version": "3.9.9"
  },
  "orig_nbformat": 4,
  "vscode": {
   "interpreter": {
    "hash": "7cd9f3d74a51e72086e77b3ce90e589f910722e5e51eb1f41674a3c810498522"
   }
  }
 },
 "nbformat": 4,
 "nbformat_minor": 2
}
