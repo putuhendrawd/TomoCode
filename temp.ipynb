{
 "cells": [
  {
   "cell_type": "code",
   "execution_count": 42,
   "metadata": {},
   "outputs": [],
   "source": [
    "import pandas as pd"
   ]
  },
  {
   "cell_type": "code",
   "execution_count": 43,
   "metadata": {},
   "outputs": [],
   "source": [
    "path = \"G:\\\\My Drive\\\\Tomography\\\\Shared Hasil\\\\Sumatera\\\\data_dukung\""
   ]
  },
  {
   "cell_type": "code",
   "execution_count": 44,
   "metadata": {},
   "outputs": [],
   "source": [
    "topo = pd.read_csv(path+\"\\\\sumatera_topography.txt\", delim_whitespace=True,names=[\"lon\",\"lat\",\"h\"])\n",
    "FAA = pd.read_csv(path+\"\\\\sumatera_gravity.txt\", delim_whitespace=True,names=[\"lon\",\"lat\",\"FAA\"])"
   ]
  },
  {
   "cell_type": "code",
   "execution_count": 45,
   "metadata": {},
   "outputs": [
    {
     "data": {
      "text/html": [
       "<div>\n",
       "<style scoped>\n",
       "    .dataframe tbody tr th:only-of-type {\n",
       "        vertical-align: middle;\n",
       "    }\n",
       "\n",
       "    .dataframe tbody tr th {\n",
       "        vertical-align: top;\n",
       "    }\n",
       "\n",
       "    .dataframe thead th {\n",
       "        text-align: right;\n",
       "    }\n",
       "</style>\n",
       "<table border=\"1\" class=\"dataframe\">\n",
       "  <thead>\n",
       "    <tr style=\"text-align: right;\">\n",
       "      <th></th>\n",
       "      <th>lon</th>\n",
       "      <th>lat</th>\n",
       "      <th>SBA</th>\n",
       "    </tr>\n",
       "  </thead>\n",
       "  <tbody>\n",
       "  </tbody>\n",
       "</table>\n",
       "</div>"
      ],
      "text/plain": [
       "Empty DataFrame\n",
       "Columns: [lon, lat, SBA]\n",
       "Index: []"
      ]
     },
     "execution_count": 45,
     "metadata": {},
     "output_type": "execute_result"
    }
   ],
   "source": [
    "SBA = pd.DataFrame([],columns=[\"lon\",\"lat\",\"SBA\"])\n",
    "SBA"
   ]
  },
  {
   "cell_type": "code",
   "execution_count": 46,
   "metadata": {},
   "outputs": [],
   "source": [
    "SBA.lat = topo.lat\n",
    "SBA.lon = topo.lon"
   ]
  },
  {
   "cell_type": "code",
   "execution_count": 47,
   "metadata": {},
   "outputs": [
    {
     "data": {
      "text/html": [
       "<div>\n",
       "<style scoped>\n",
       "    .dataframe tbody tr th:only-of-type {\n",
       "        vertical-align: middle;\n",
       "    }\n",
       "\n",
       "    .dataframe tbody tr th {\n",
       "        vertical-align: top;\n",
       "    }\n",
       "\n",
       "    .dataframe thead th {\n",
       "        text-align: right;\n",
       "    }\n",
       "</style>\n",
       "<table border=\"1\" class=\"dataframe\">\n",
       "  <thead>\n",
       "    <tr style=\"text-align: right;\">\n",
       "      <th></th>\n",
       "      <th>lon</th>\n",
       "      <th>lat</th>\n",
       "      <th>SBA</th>\n",
       "    </tr>\n",
       "  </thead>\n",
       "  <tbody>\n",
       "    <tr>\n",
       "      <th>0</th>\n",
       "      <td>92.0083</td>\n",
       "      <td>7.0076</td>\n",
       "      <td>NaN</td>\n",
       "    </tr>\n",
       "    <tr>\n",
       "      <th>1</th>\n",
       "      <td>92.0250</td>\n",
       "      <td>7.0076</td>\n",
       "      <td>NaN</td>\n",
       "    </tr>\n",
       "    <tr>\n",
       "      <th>2</th>\n",
       "      <td>92.0417</td>\n",
       "      <td>7.0076</td>\n",
       "      <td>NaN</td>\n",
       "    </tr>\n",
       "    <tr>\n",
       "      <th>3</th>\n",
       "      <td>92.0583</td>\n",
       "      <td>7.0076</td>\n",
       "      <td>NaN</td>\n",
       "    </tr>\n",
       "    <tr>\n",
       "      <th>4</th>\n",
       "      <td>92.0750</td>\n",
       "      <td>7.0076</td>\n",
       "      <td>NaN</td>\n",
       "    </tr>\n",
       "    <tr>\n",
       "      <th>...</th>\n",
       "      <td>...</td>\n",
       "      <td>...</td>\n",
       "      <td>...</td>\n",
       "    </tr>\n",
       "    <tr>\n",
       "      <th>709799</th>\n",
       "      <td>105.9417</td>\n",
       "      <td>-7.0074</td>\n",
       "      <td>NaN</td>\n",
       "    </tr>\n",
       "    <tr>\n",
       "      <th>709800</th>\n",
       "      <td>105.9583</td>\n",
       "      <td>-7.0074</td>\n",
       "      <td>NaN</td>\n",
       "    </tr>\n",
       "    <tr>\n",
       "      <th>709801</th>\n",
       "      <td>105.9750</td>\n",
       "      <td>-7.0074</td>\n",
       "      <td>NaN</td>\n",
       "    </tr>\n",
       "    <tr>\n",
       "      <th>709802</th>\n",
       "      <td>105.9917</td>\n",
       "      <td>-7.0074</td>\n",
       "      <td>NaN</td>\n",
       "    </tr>\n",
       "    <tr>\n",
       "      <th>709803</th>\n",
       "      <td>106.0083</td>\n",
       "      <td>-7.0074</td>\n",
       "      <td>NaN</td>\n",
       "    </tr>\n",
       "  </tbody>\n",
       "</table>\n",
       "<p>709804 rows × 3 columns</p>\n",
       "</div>"
      ],
      "text/plain": [
       "             lon     lat  SBA\n",
       "0        92.0083  7.0076  NaN\n",
       "1        92.0250  7.0076  NaN\n",
       "2        92.0417  7.0076  NaN\n",
       "3        92.0583  7.0076  NaN\n",
       "4        92.0750  7.0076  NaN\n",
       "...          ...     ...  ...\n",
       "709799  105.9417 -7.0074  NaN\n",
       "709800  105.9583 -7.0074  NaN\n",
       "709801  105.9750 -7.0074  NaN\n",
       "709802  105.9917 -7.0074  NaN\n",
       "709803  106.0083 -7.0074  NaN\n",
       "\n",
       "[709804 rows x 3 columns]"
      ]
     },
     "execution_count": 47,
     "metadata": {},
     "output_type": "execute_result"
    }
   ],
   "source": [
    "SBA"
   ]
  },
  {
   "cell_type": "code",
   "execution_count": 48,
   "metadata": {},
   "outputs": [
    {
     "data": {
      "text/html": [
       "<div>\n",
       "<style scoped>\n",
       "    .dataframe tbody tr th:only-of-type {\n",
       "        vertical-align: middle;\n",
       "    }\n",
       "\n",
       "    .dataframe tbody tr th {\n",
       "        vertical-align: top;\n",
       "    }\n",
       "\n",
       "    .dataframe thead th {\n",
       "        text-align: right;\n",
       "    }\n",
       "</style>\n",
       "<table border=\"1\" class=\"dataframe\">\n",
       "  <thead>\n",
       "    <tr style=\"text-align: right;\">\n",
       "      <th></th>\n",
       "      <th>lon</th>\n",
       "      <th>lat</th>\n",
       "      <th>SBA</th>\n",
       "    </tr>\n",
       "  </thead>\n",
       "  <tbody>\n",
       "    <tr>\n",
       "      <th>0</th>\n",
       "      <td>92.0083</td>\n",
       "      <td>7.0076</td>\n",
       "      <td>443.117430</td>\n",
       "    </tr>\n",
       "    <tr>\n",
       "      <th>1</th>\n",
       "      <td>92.0250</td>\n",
       "      <td>7.0076</td>\n",
       "      <td>444.240978</td>\n",
       "    </tr>\n",
       "    <tr>\n",
       "      <th>2</th>\n",
       "      <td>92.0417</td>\n",
       "      <td>7.0076</td>\n",
       "      <td>444.864526</td>\n",
       "    </tr>\n",
       "    <tr>\n",
       "      <th>3</th>\n",
       "      <td>92.0583</td>\n",
       "      <td>7.0076</td>\n",
       "      <td>445.229902</td>\n",
       "    </tr>\n",
       "    <tr>\n",
       "      <th>4</th>\n",
       "      <td>92.0750</td>\n",
       "      <td>7.0076</td>\n",
       "      <td>445.937106</td>\n",
       "    </tr>\n",
       "    <tr>\n",
       "      <th>...</th>\n",
       "      <td>...</td>\n",
       "      <td>...</td>\n",
       "      <td>...</td>\n",
       "    </tr>\n",
       "    <tr>\n",
       "      <th>709799</th>\n",
       "      <td>105.9417</td>\n",
       "      <td>-7.0074</td>\n",
       "      <td>172.750204</td>\n",
       "    </tr>\n",
       "    <tr>\n",
       "      <th>709800</th>\n",
       "      <td>105.9583</td>\n",
       "      <td>-7.0074</td>\n",
       "      <td>173.084828</td>\n",
       "    </tr>\n",
       "    <tr>\n",
       "      <th>709801</th>\n",
       "      <td>105.9750</td>\n",
       "      <td>-7.0074</td>\n",
       "      <td>172.999506</td>\n",
       "    </tr>\n",
       "    <tr>\n",
       "      <th>709802</th>\n",
       "      <td>105.9917</td>\n",
       "      <td>-7.0074</td>\n",
       "      <td>171.968754</td>\n",
       "    </tr>\n",
       "    <tr>\n",
       "      <th>709803</th>\n",
       "      <td>106.0083</td>\n",
       "      <td>-7.0074</td>\n",
       "      <td>171.154346</td>\n",
       "    </tr>\n",
       "  </tbody>\n",
       "</table>\n",
       "<p>709804 rows × 3 columns</p>\n",
       "</div>"
      ],
      "text/plain": [
       "             lon     lat         SBA\n",
       "0        92.0083  7.0076  443.117430\n",
       "1        92.0250  7.0076  444.240978\n",
       "2        92.0417  7.0076  444.864526\n",
       "3        92.0583  7.0076  445.229902\n",
       "4        92.0750  7.0076  445.937106\n",
       "...          ...     ...         ...\n",
       "709799  105.9417 -7.0074  172.750204\n",
       "709800  105.9583 -7.0074  173.084828\n",
       "709801  105.9750 -7.0074  172.999506\n",
       "709802  105.9917 -7.0074  171.968754\n",
       "709803  106.0083 -7.0074  171.154346\n",
       "\n",
       "[709804 rows x 3 columns]"
      ]
     },
     "execution_count": 48,
     "metadata": {},
     "output_type": "execute_result"
    }
   ],
   "source": [
    "SBA.SBA = FAA.FAA - (0.0429*2.67*topo.h)\n",
    "SBA"
   ]
  },
  {
   "cell_type": "code",
   "execution_count": 49,
   "metadata": {},
   "outputs": [],
   "source": [
    "SBA.to_csv(path+\"\\\\sumatera_gravity_correction.txt\",sep=\"\\t\",index=False)"
   ]
  },
  {
   "cell_type": "code",
   "execution_count": null,
   "metadata": {},
   "outputs": [],
   "source": []
  }
 ],
 "metadata": {
  "kernelspec": {
   "display_name": "geo_env",
   "language": "python",
   "name": "python3"
  },
  "language_info": {
   "codemirror_mode": {
    "name": "ipython",
    "version": 3
   },
   "file_extension": ".py",
   "mimetype": "text/x-python",
   "name": "python",
   "nbconvert_exporter": "python",
   "pygments_lexer": "ipython3",
   "version": "3.9.9"
  },
  "orig_nbformat": 4,
  "vscode": {
   "interpreter": {
    "hash": "7cd9f3d74a51e72086e77b3ce90e589f910722e5e51eb1f41674a3c810498522"
   }
  }
 },
 "nbformat": 4,
 "nbformat_minor": 2
}
