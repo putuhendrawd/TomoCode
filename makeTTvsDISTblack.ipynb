{
 "cells": [
  {
   "cell_type": "code",
   "execution_count": null,
   "metadata": {},
   "outputs": [],
   "source": [
    "'''\n",
    "Coding: PYTHON UTF-8\n",
    "Created On: 2023-05-02 14:53:08\n",
    "Author: Putu Hendra Widyadharma\n",
    "=== plot travel time vs distance with data selection\n",
    "'''"
   ]
  },
  {
   "cell_type": "code",
   "execution_count": null,
   "metadata": {},
   "outputs": [],
   "source": [
    "import numpy as np\n",
    "import pandas as pd\n",
    "import matplotlib.pyplot as plt\n",
    "from localfunction import *\n",
    "from tqdm import trange\n",
    "from sklearn.metrics import r2_score\n"
   ]
  },
  {
   "cell_type": "code",
   "execution_count": null,
   "metadata": {},
   "outputs": [],
   "source": [
    "path = \"G:\\\\My Drive\\\\IUGG Seminar\\\\data\\\\data_poster\\\\\"\n",
    "fname = \"tempwadati_arrivals_ttdistfilter.txt\""
   ]
  },
  {
   "cell_type": "code",
   "execution_count": null,
   "metadata": {},
   "outputs": [],
   "source": [
    "wadati = pd.read_csv(path+fname, delim_whitespace=True)"
   ]
  },
  {
   "cell_type": "code",
   "execution_count": null,
   "metadata": {},
   "outputs": [],
   "source": [
    "wadati = wadati[wadati['dist_from_event'] <= 500]"
   ]
  },
  {
   "cell_type": "code",
   "execution_count": null,
   "metadata": {},
   "outputs": [],
   "source": [
    "#%%\n",
    "#parameter vp/vs calculation\n",
    "slope, intercept = np.polyfit(wadati['tp'].astype(float),wadati['ts-tp'].astype(float),1)\n",
    "predict = np.poly1d([slope, intercept])\n",
    "\n",
    "#hitung batas atas dan bawah regresi vp/vs\n",
    "predictup = np.poly1d([slope,intercept+9.5])\n",
    "predictdown = np.poly1d([slope,intercept-9.5])\n",
    "\n",
    "#hitung stdev\n",
    "std = np.std(wadati['ts-tp'])\n",
    "\n",
    "#hitung standard_error\n",
    "residuals = wadati['ts-tp'].to_numpy() - predict(wadati['tp'])\n",
    "residuals = residuals**2\n",
    "standard_error = (sum(residuals)/(len(residuals)-2))**0.5\n",
    "\n",
    "#cek r-square score\n",
    "r2 = r2_score(wadati['ts-tp'],predict(wadati['tp']))\n",
    "\n",
    "print('VP/VS = ' + str(slope + 1))\n",
    "print(f\"R-square = {r2}\")\n",
    "print(f\"std_err = {standard_error}\")"
   ]
  },
  {
   "cell_type": "code",
   "execution_count": null,
   "metadata": {},
   "outputs": [],
   "source": [
    "plt.rcParams.update({'font.size': 14})\n",
    "from matplotlib import colors\n",
    "from matplotlib.colors import Colormap\n",
    "from mpl_toolkits.axes_grid1.inset_locator import inset_axes\n",
    "\n",
    "# calculate slope and intercept\n",
    "#hitung batas atas dan bawah regresi vp\n",
    "slope, intercept = np.polyfit(wadati['dist_from_event'].astype(float),wadati['tp'].astype(float),1)\n",
    "predict = np.poly1d([slope+0.01, intercept])\n",
    "predictup = np.poly1d([slope+0.01,intercept+6])\n",
    "predictdown = np.poly1d([slope-0.01,intercept-6])\n",
    "\n",
    "#hitung batas atas dan bawah regresi vs\n",
    "slope, intercept = np.polyfit(wadati['dist_from_event'].astype(float),wadati['ts'].astype(float),1)\n",
    "predicts = np.poly1d([slope, intercept])\n",
    "predictups = np.poly1d([slope+0.03,intercept+1])\n",
    "predictdowns = np.poly1d([slope,intercept-9.5])\n",
    "\n",
    "#perbaiki plot\n",
    "wadatis = wadati.sort_values('dist_from_event')\n",
    "\n",
    "for iter in ['ps']:\n",
    "    #plot\n",
    "    fig, ax = plt.subplots(figsize = (5,5), dpi=1200)\n",
    "    if iter == 'p':\n",
    "        ax.scatter(wadatis['dist_from_event'],wadatis['tp'],color='blue',label=\"P-phase\",edgecolors='black', s=1)\n",
    "        ax.plot(wadatis['dist_from_event'],predict(wadatis['dist_from_event']),'r--')\n",
    "        ax.plot(wadatis['dist_from_event'],predictup(wadatis['dist_from_event']),'r--')\n",
    "        ax.plot(wadatis['dist_from_event'],predictdown(wadatis['dist_from_event']),'r--')\n",
    "    if iter == 's':\n",
    "        ax.scatter(wadatis['dist_from_event'],wadatis['ts'],color='red',label=\"S-phase\",edgecolors='black', s=1)\n",
    "        ax.plot(wadatis['dist_from_event'],predicts(wadatis['dist_from_event']),'r--')\n",
    "        ax.plot(wadatis['dist_from_event'],predictups(wadatis['dist_from_event']),'r--')\n",
    "        ax.plot(wadatis['dist_from_event'],predictdowns(wadatis['dist_from_event']),'r--')\n",
    "    if iter == 'ps':\n",
    "        ax.scatter(wadatis['dist_from_event'],wadatis['tp'],color='blue',label=\"P-phase\",edgecolors='black', s=1)\n",
    "        ax.scatter(wadatis['dist_from_event'],wadatis['ts'],color='red',label=\"S-phase\",edgecolors='black', s=1)\n",
    "\n",
    "    ax.set_xlabel('Epicentral Distance (km)')\n",
    "    ax.set_ylabel('Travel Time (s)')\n",
    "    ax.set_xlim([-2,200])\n",
    "    ax.set_ylim([-2,60])\n",
    "    # ax.legend(loc='upper left')\n",
    "    fig.set_figheight(5)\n",
    "    fig.set_figwidth(8)\n",
    "    fig.savefig(path+'TravelTime_vs_Distance_black.jpg'.format(iter,Path(fname).stem))"
   ]
  },
  {
   "cell_type": "code",
   "execution_count": null,
   "metadata": {},
   "outputs": [],
   "source": [
    "wadati_p = wadatis.copy()\n",
    "wadati_s = wadatis.copy()\n",
    "\n",
    "def selection_data_p(row):\n",
    "    if (row['tp'] <= predictup(row['dist_from_event'])) and (row['tp'] >= predictdown(row['dist_from_event'])):\n",
    "        return True\n",
    "    else:\n",
    "        return False\n",
    "def selection_data_s(row):\n",
    "    if (row['ts'] <= predictups(row['dist_from_event'])) and (row['ts'] >= predictdowns(row['dist_from_event'])):\n",
    "        return True\n",
    "    else:\n",
    "        return False\n",
    "# apply perhitungan\n",
    "wadati_p['result'] = wadati_p.apply(selection_data_p,axis=1)\n",
    "wadati_s['result'] = wadati_s.apply(selection_data_s,axis=1)\n",
    "# select wadati hanya pada event yang perlu diubah\n",
    "wadati_p = wadati_p[wadati_p['result'] == True]\n",
    "wadati_s = wadati_s[wadati_s['result'] == True]"
   ]
  },
  {
   "cell_type": "code",
   "execution_count": null,
   "metadata": {},
   "outputs": [],
   "source": [
    "for iter in ['s']:\n",
    "    #plot\n",
    "    fig, ax = plt.subplots(figsize = (5,5), dpi=1200)\n",
    "    if iter == 'p':\n",
    "        ax.scatter(wadati_p['dist_from_event'],wadati_p['tp'],color='blue',label=\"P-phase\",edgecolors='black', s=1)\n",
    "        ax.plot(wadatis['dist_from_event'],predict(wadatis['dist_from_event']),'r--')\n",
    "        ax.plot(wadatis['dist_from_event'],predictup(wadatis['dist_from_event']),'r--')\n",
    "        ax.plot(wadatis['dist_from_event'],predictdown(wadatis['dist_from_event']),'r--')\n",
    "    if iter == 's':\n",
    "        ax.scatter(wadati_s['dist_from_event'],wadati_s['ts'],color='red',label=\"S-phase\",edgecolors='black', s=1)\n",
    "        ax.plot(wadatis['dist_from_event'],predicts(wadatis['dist_from_event']),'r--')\n",
    "        ax.plot(wadatis['dist_from_event'],predictups(wadatis['dist_from_event']),'r--')\n",
    "        ax.plot(wadatis['dist_from_event'],predictdowns(wadatis['dist_from_event']),'r--')\n",
    "    if iter == 'ps':\n",
    "        ax.scatter(wadati_p['dist_from_event'],wadati_p['tp'],color='blue',label=\"P-phase\",edgecolors='black', s=1)\n",
    "        ax.scatter(wadati_s['dist_from_event'],wadati_s['ts'],color='red',label=\"S-phase\",edgecolors='black', s=1)\n",
    "\n",
    "    ax.set_xlabel('Epicentral Distance (km)')\n",
    "    ax.set_ylabel('Travel Time (s)')\n",
    "    ax.set_xlim([-2,1000])\n",
    "    ax.set_ylim([-2,250])\n",
    "    # ax.legend(loc='upper left')\n",
    "    fig.set_figheight(5)\n",
    "    fig.set_figwidth(8)\n",
    "    fig.savefig(path+'dot_selected_all {} {}.jpg'.format(iter,Path(fname).stem))"
   ]
  }
 ],
 "metadata": {
  "kernelspec": {
   "display_name": "geo_env",
   "language": "python",
   "name": "python3"
  },
  "language_info": {
   "codemirror_mode": {
    "name": "ipython",
    "version": 3
   },
   "file_extension": ".py",
   "mimetype": "text/x-python",
   "name": "python",
   "nbconvert_exporter": "python",
   "pygments_lexer": "ipython3",
   "version": "3.9.9"
  },
  "orig_nbformat": 4,
  "vscode": {
   "interpreter": {
    "hash": "7cd9f3d74a51e72086e77b3ce90e589f910722e5e51eb1f41674a3c810498522"
   }
  }
 },
 "nbformat": 4,
 "nbformat_minor": 2
}
