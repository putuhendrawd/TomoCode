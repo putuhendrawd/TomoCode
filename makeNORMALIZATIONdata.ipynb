{
 "cells": [
  {
   "cell_type": "code",
   "execution_count": 1,
   "metadata": {},
   "outputs": [
    {
     "data": {
      "text/plain": [
       "'\\nCoding: PYTHON UTF-8\\nCreated On: 2024-01-26 09:21:14\\nAuthor: Putu Hendra Widyadharma\\n=== normalize output from convertMOD.py\\n=== input Vp_model_output.csv | Vs_model_output.csv | VpperVs_model_output.csv\\n'"
      ]
     },
     "execution_count": 1,
     "metadata": {},
     "output_type": "execute_result"
    }
   ],
   "source": [
    "'''\n",
    "Coding: PYTHON UTF-8\n",
    "Created On: 2024-01-26 09:21:14\n",
    "Author: Putu Hendra Widyadharma\n",
    "=== normalize output from convertMOD.py\n",
    "=== input Vp_model_output.csv | Vs_model_output.csv | VpperVs_model_output.csv\n",
    "'''"
   ]
  },
  {
   "cell_type": "code",
   "execution_count": 2,
   "metadata": {},
   "outputs": [],
   "source": [
    "import pandas as pd\n",
    "import numpy as np"
   ]
  },
  {
   "cell_type": "code",
   "execution_count": 8,
   "metadata": {},
   "outputs": [],
   "source": [
    "path = \"G:/My Drive/Tomography/Shared Hasil/Sumatera/input/tes1-real-sum-04102022-output/\"\n",
    "df = pd.read_csv(path+\"Vp_model_output.csv\")"
   ]
  },
  {
   "cell_type": "code",
   "execution_count": 9,
   "metadata": {},
   "outputs": [],
   "source": [
    "df_normalize = df.copy()"
   ]
  },
  {
   "cell_type": "code",
   "execution_count": null,
   "metadata": {},
   "outputs": [],
   "source": [
    "#search for global min and max\n",
    "min_ = df_normalize.iloc[:,2:].to_numpy().min()\n",
    "max_ = df_normalize.iloc[:,2:].to_numpy().max()\n",
    "\n",
    "# MinMaxScaler Method\n",
    "for ser in df_normalize.iloc[:,2:]:\n",
    "    x=df_normalize[ser].copy().to_numpy()\n",
    "    x_norm = (x-min_)/(max_-min_)*(20)-10\n",
    "    df_normalize[ser] = x_norm\n",
    "    del(x,x_norm)\n",
    "df_normalize.to_csv(path+'Vp_model_output_normalized.csv', index = False, header=True, na_rep='NaN')"
   ]
  },
  {
   "cell_type": "code",
   "execution_count": 10,
   "metadata": {},
   "outputs": [],
   "source": [
    "#search global mean\n",
    "mean = df_normalize.iloc[:,2:].to_numpy().mean()\n",
    "\n",
    "# Devide by average method\n",
    "for ser in df_normalize.iloc[:,2:]:\n",
    "    x=df_normalize[ser].copy().to_numpy()\n",
    "    x_norm = x/mean\n",
    "    df_normalize[ser] = x_norm\n",
    "    del(x,x_norm)\n",
    "    \n",
    "# MinMaxScaler Method\n",
    "min_ = df_normalize.iloc[:,2:].to_numpy().min()\n",
    "max_ = df_normalize.iloc[:,2:].to_numpy().max()\n",
    "\n",
    "for ser in df_normalize.iloc[:,2:]:\n",
    "    x=df_normalize[ser].copy().to_numpy()\n",
    "    x_norm = (x-min_)/(max_-min_)*(20)-10\n",
    "    df_normalize[ser] = x_norm\n",
    "    del(x,x_norm)\n",
    "\n",
    "df_normalize.to_csv(path+'Vp_model_output_normalized_by_mean.csv', index = False, header=True, na_rep='NaN')"
   ]
  }
 ],
 "metadata": {
  "kernelspec": {
   "display_name": "geo_env",
   "language": "python",
   "name": "python3"
  },
  "language_info": {
   "codemirror_mode": {
    "name": "ipython",
    "version": 3
   },
   "file_extension": ".py",
   "mimetype": "text/x-python",
   "name": "python",
   "nbconvert_exporter": "python",
   "pygments_lexer": "ipython3",
   "version": "3.9.9"
  },
  "orig_nbformat": 4
 },
 "nbformat": 4,
 "nbformat_minor": 2
}
