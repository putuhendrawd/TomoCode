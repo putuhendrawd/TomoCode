{
 "cells": [
  {
   "cell_type": "code",
   "execution_count": 1,
   "metadata": {},
   "outputs": [
    {
     "data": {
      "text/plain": [
       "'\\nCoding: PYTHON UTF-8\\nCreated On: 2023-07-09 18:51:50\\nAuthor: Putu Hendra Widyadharma\\n=== compare .res before relocation and after relocation to have same event pairs\\n'"
      ]
     },
     "execution_count": 1,
     "metadata": {},
     "output_type": "execute_result"
    }
   ],
   "source": [
    "'''\n",
    "Coding: PYTHON UTF-8\n",
    "Created On: 2023-07-09 18:51:50\n",
    "Author: Putu Hendra Widyadharma\n",
    "=== compare .res before relocation and after relocation to have same event pairs\n",
    "'''"
   ]
  },
  {
   "cell_type": "code",
   "execution_count": 2,
   "metadata": {},
   "outputs": [],
   "source": [
    "import numpy as np\n",
    "import pandas as pd\n",
    "import matplotlib.pyplot as plt\n",
    "from localfunction import *\n",
    "from pathlib import Path\n",
    "from tqdm import tqdm\n"
   ]
  },
  {
   "cell_type": "code",
   "execution_count": 3,
   "metadata": {},
   "outputs": [],
   "source": [
    "path = \"G:\\\\My Drive\\\\IUGG Seminar\\\\data\\\\data_poster\\\\reloc_ttdistfilter\\\\tes-250\\\\\"\n",
    "res_before_fname = \"hypoDD_before.res\"\n",
    "res_after_fname = \"hypoDD.res\""
   ]
  },
  {
   "cell_type": "code",
   "execution_count": 4,
   "metadata": {},
   "outputs": [],
   "source": [
    "def data(fname):\n",
    "\ttry:\n",
    "\t\tfile = open(path+fname,'r')\n",
    "\t\tbaris = file.readlines()\n",
    "\t\tfor i in range(len(baris)):\n",
    "\t\t\tbaris[i]=baris[i].split()\n",
    "\t\tfile.close()\n",
    "\n",
    "\n",
    "\t\tdf = pd.DataFrame(baris, columns = baris[0])\n",
    "\t\tdf.drop(0, inplace = True)\n",
    "\t\tdf.reset_index(drop = True, inplace=True)\n",
    "\n",
    "\t\t# df = df[df['C1'] == df['C2']]\n",
    "\t\tdf = df[df['RES'] != '************']\n",
    "\t\tdf['RES'] = pd.to_numeric(df['RES'])\n",
    "\t\tdf['RES'] = df['RES'].div(1000)\n",
    "\n",
    "\t\t#df = df[df['RES'] < 15]\n",
    "\t\tprint(\"read file success\")\n",
    "\t\treturn (df)\n",
    "\texcept:\n",
    "\t\tprint(\"file could not be loaded, return zero dataframe\")\n",
    "\t\treturn(pd.DataFrame([]))"
   ]
  },
  {
   "cell_type": "code",
   "execution_count": 5,
   "metadata": {},
   "outputs": [
    {
     "name": "stdout",
     "output_type": "stream",
     "text": [
      "==read before\n",
      "read file success\n",
      "==read after\n",
      "read file success\n",
      "== dataframe output created\n"
     ]
    }
   ],
   "source": [
    "print(\"==read before\")\n",
    "df1 = data(res_before_fname) # df to be compared\n",
    "print(\"==read after\")\n",
    "df2 = data(res_after_fname)\n",
    "\n",
    "df_result = pd.DataFrame(columns=df1.columns)\n",
    "print(\"== dataframe output created\")"
   ]
  },
  {
   "cell_type": "code",
   "execution_count": 6,
   "metadata": {},
   "outputs": [
    {
     "name": "stdout",
     "output_type": "stream",
     "text": [
      "df1 row number 0 found\n",
      "df1 row number 1 found\n",
      "df1 row number 2 found\n",
      "df1 row number 4 found\n",
      "df1 row number 5 found\n",
      "df1 row number 6 found\n",
      "df1 row number 7 found\n",
      "df1 row number 8 found\n",
      "df1 row number 9 found\n",
      "df1 row number 10 found\n",
      "df1 row number 11 found\n"
     ]
    }
   ],
   "source": [
    "# compare\n",
    "for i, row1 in df1.iterrows():\n",
    "    df2_iter = df2[df2['C1'] == row1['C1']]\n",
    "    # for j, row2 in tqdm(df2_iter.iterrows(), total=df2_iter.shape[0], desc=f\"search row {i}:\"):\n",
    "    for j, row2 in df2_iter.iterrows():\n",
    "        if ((row1['STA'] == row2['STA']) and \n",
    "            (row1['C1'] == row2['C1']) and \n",
    "            (row1['C2'] == row2['C2']) and\n",
    "            (row1['IDX'] == row2['IDX'])):\n",
    "            print(f\"df1 row number {i} found\")\n",
    "            df_result = pd.concat([df_result,row1.to_frame().T],ignore_index=True)\n",
    "            break\n",
    "        else:\n",
    "            pass"
   ]
  },
  {
   "cell_type": "code",
   "execution_count": null,
   "metadata": {},
   "outputs": [],
   "source": [
    "#output\n",
    "df_result.drop(['OFFS'],axis=1,inplace=True)\n",
    "df_result.columns = ['STA', 'DT', 'C1', 'C2', 'IDX', 'QUAL', 'RES [ms]', 'WT', 'OFFS']\n",
    "df_result.to_csv(path+Path(res_before_fname).stem+'_filter_all.res',sep='\\t',index=None)"
   ]
  }
 ],
 "metadata": {
  "kernelspec": {
   "display_name": "geo_env",
   "language": "python",
   "name": "python3"
  },
  "language_info": {
   "codemirror_mode": {
    "name": "ipython",
    "version": 3
   },
   "file_extension": ".py",
   "mimetype": "text/x-python",
   "name": "python",
   "nbconvert_exporter": "python",
   "pygments_lexer": "ipython3",
   "version": "3.9.9"
  },
  "orig_nbformat": 4,
  "vscode": {
   "interpreter": {
    "hash": "7cd9f3d74a51e72086e77b3ce90e589f910722e5e51eb1f41674a3c810498522"
   }
  }
 },
 "nbformat": 4,
 "nbformat_minor": 2
}
