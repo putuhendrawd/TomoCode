{
 "cells": [
  {
   "cell_type": "code",
   "execution_count": null,
   "metadata": {},
   "outputs": [],
   "source": [
    "'''\n",
    "Coding: PYTHON UTF-8\n",
    "Created On: 2023-04-28 12:39:30\n",
    "Author: Putu Hendra Widyadharma\n",
    "=== filter .pha using wadati result from makeWADATI \n",
    "'''"
   ]
  },
  {
   "cell_type": "code",
   "execution_count": 1,
   "metadata": {},
   "outputs": [],
   "source": [
    "import numpy as np\n",
    "import pandas as pd\n",
    "from sklearn.metrics import r2_score\n",
    "from localfunction import *\n",
    "pd.options.mode.chained_assignment = None"
   ]
  },
  {
   "cell_type": "code",
   "execution_count": 12,
   "metadata": {},
   "outputs": [],
   "source": [
    "path = 'G:\\\\My Drive\\\\Tomography\\\\270423\\\\'\n",
    "fname = 'phase_sul_2022_8P_fix.dat'\n",
    "fname2 = 'temppha_phase_sul_2022_8P_fix.txt'\n",
    "fname3 = 'tempwadati_phase_sul_2022_8P_fix.txt'\n",
    "deviation = 9.5"
   ]
  },
  {
   "cell_type": "code",
   "execution_count": 3,
   "metadata": {},
   "outputs": [],
   "source": [
    "df = readabsolute(path+fname)\n",
    "dfphase = pd.read_csv(path+fname2,delim_whitespace=True)\n",
    "dfwadati = pd.read_csv(path+fname3,delim_whitespace=True)"
   ]
  },
  {
   "cell_type": "code",
   "execution_count": 4,
   "metadata": {},
   "outputs": [
    {
     "name": "stdout",
     "output_type": "stream",
     "text": [
      "VP/VS = 1.7665616072517856\n",
      "R-square = 0.9766163223357679\n"
     ]
    }
   ],
   "source": [
    "# hitung dan buat persamaan pembatas \n",
    "slope, intercept = np.polyfit(dfwadati['tp'].astype(float),dfwadati['ts-tp'].astype(float),1)\n",
    "\n",
    "# predict function\n",
    "predict = np.poly1d([slope, intercept])\n",
    "# predict with deviation\n",
    "predictup = np.poly1d([slope,intercept+deviation])\n",
    "predictdown = np.poly1d([slope,intercept-deviation])\n",
    "\n",
    "# hitung R^2 menguji kecocokan regresi\n",
    "r2 = r2_score(dfwadati['ts-tp'],predict(dfwadati['tp']))\n",
    "print('VP/VS = ' + str(slope + 1))\n",
    "print(f\"R-square = {r2}\")"
   ]
  },
  {
   "cell_type": "code",
   "execution_count": 5,
   "metadata": {},
   "outputs": [],
   "source": [
    "### dfwadati processing\n",
    "# fungsi seleksi data berdasarkan batas atas dan bawah deviasi\n",
    "def selection_data(row):\n",
    "    if (row['ts-tp'] <= predictup(row['tp'])) and (row['ts-tp'] >= predictdown(row['tp'])):\n",
    "        return True\n",
    "    else:\n",
    "        return False\n",
    "# apply perhitungan\n",
    "dfwadati['result'] = dfwadati.apply(selection_data,axis=1)\n",
    "# select wadati hanya pada event yang perlu diubah\n",
    "dfwadati = dfwadati[dfwadati['event_id'].isin(dfwadati[dfwadati['result'] == False]['event_id'].unique())]"
   ]
  },
  {
   "cell_type": "code",
   "execution_count": 6,
   "metadata": {},
   "outputs": [
    {
     "data": {
      "text/plain": [
       "Int64Index([ 18148,  47034,  50869,  57531,  57999,  58444,  64086,  66401,\n",
       "             71386,  71412,  72095,  73765,  75677,  75719,  76167,  79983,\n",
       "             84743,  94460,  94750, 106661, 110447, 111937, 114556, 114646,\n",
       "            115600, 115996, 127619, 131970, 135503, 137723, 141174, 144082,\n",
       "            150760, 154497, 157527, 160023, 171976, 173438, 177531, 177748,\n",
       "            182298, 183444, 185567, 185974, 186163, 198284, 199972, 202718,\n",
       "            203006, 209298, 209457, 209965, 213667, 214066, 222628, 224955,\n",
       "            226873, 229072, 229858, 238463, 240177],\n",
       "           dtype='int64')"
      ]
     },
     "execution_count": 6,
     "metadata": {},
     "output_type": "execute_result"
    }
   ],
   "source": [
    "# index search untuk event_id yang perlu disesuaikan menurut wadati \n",
    "editable_idx = df[df[0] == '#'][14].astype('int64').isin(dfwadati['event_id'].unique())\n",
    "editable_idx = editable_idx[editable_idx==True].index\n",
    "editable_idx"
   ]
  },
  {
   "cell_type": "code",
   "execution_count": 7,
   "metadata": {},
   "outputs": [
    {
     "name": "stdout",
     "output_type": "stream",
     "text": [
      "event: 1100 -- index:18150 --> TMSI Phase:S dropped\n",
      "event: 2869 -- index:47041 --> SGSI Phase:S dropped\n",
      "event: 3094 -- index:50886 --> KMSI Phase:S dropped\n",
      "event: 3449 -- index:57542 --> SPSI Phase:S dropped\n",
      "event: 3476 -- index:58007 --> PCI Phase:S dropped\n",
      "event: 3501 -- index:58452 --> SPSI Phase:S dropped\n",
      "event: 3813 -- index:64093 --> PMSI Phase:S dropped\n",
      "event: 3938 -- index:66403 --> TNTI Phase:S dropped\n",
      "event: 4205 -- index:71396 --> LUWI Phase:S dropped\n",
      "event: 4207 -- index:71416 --> KMSI Phase:S dropped\n",
      "event: 4207 -- index:71422 --> SRSI Phase:S dropped\n",
      "event: 4207 -- index:71424 --> TOLI2 Phase:S dropped\n",
      "event: 4240 -- index:72099 --> MRSI Phase:S dropped\n",
      "event: 4240 -- index:72101 --> LUWI Phase:S dropped\n",
      "event: 4328 -- index:73769 --> TMSI Phase:S dropped\n",
      "event: 4423 -- index:75686 --> PSSI Phase:S dropped\n",
      "event: 4426 -- index:75721 --> KMSI Phase:S dropped\n",
      "event: 4444 -- index:76185 --> LUWI Phase:S dropped\n",
      "event: 4637 -- index:79989 --> PSSI Phase:S dropped\n",
      "event: 4881 -- index:84761 --> DBNI Phase:S dropped\n",
      "event: 5244 -- index:94513 --> MMSI Phase:S dropped\n",
      "event: 5244 -- index:94515 --> LSCM Phase:S dropped\n",
      "event: 5256 -- index:94766 --> MPSI Phase:S dropped\n",
      "event: 5256 -- index:94768 --> LOCM Phase:S dropped\n",
      "event: 5683 -- index:106677 --> MSCM Phase:S dropped\n",
      "event: 5835 -- index:110459 --> SANI Phase:S dropped\n",
      "event: 5890 -- index:111939 --> PBCI Phase:S dropped\n",
      "event: 6002 -- index:114583 --> SWCM Phase:S dropped\n",
      "event: 6006 -- index:114713 --> SDCI Phase:S dropped\n",
      "event: 6042 -- index:115602 --> JHMI Phase:S dropped\n",
      "event: 6042 -- index:115612 --> KMSI Phase:S dropped\n",
      "event: 6057 -- index:116034 --> PMSI Phase:S dropped\n",
      "event: 6519 -- index:127652 --> PCI Phase:S dropped\n",
      "event: 6691 -- index:131972 --> TPCI Phase:S dropped\n",
      "event: 6834 -- index:135523 --> MMCI Phase:S dropped\n",
      "event: 6913 -- index:137742 --> LUWI Phase:S dropped\n",
      "event: 7048 -- index:141176 --> LOCM Phase:S dropped\n",
      "event: 7048 -- index:141178 --> LUCM Phase:S dropped\n",
      "event: 7048 -- index:141180 --> POCI Phase:S dropped\n",
      "event: 7048 -- index:141182 --> RDCM Phase:S dropped\n",
      "event: 7155 -- index:144084 --> PSSI Phase:S dropped\n",
      "event: 7404 -- index:150775 --> PMMI Phase:S dropped\n",
      "event: 7404 -- index:150780 --> SANI Phase:S dropped\n",
      "event: 7404 -- index:150782 --> OBMI Phase:S dropped\n",
      "event: 7404 -- index:150784 --> LOCM Phase:S dropped\n",
      "event: 7404 -- index:150786 --> TOCM Phase:S dropped\n",
      "event: 7404 -- index:150788 --> SRSI Phase:S dropped\n",
      "event: 7535 -- index:154513 --> PSSI Phase:S dropped\n",
      "event: 7619 -- index:157543 --> BLCM Phase:S dropped\n",
      "event: 7619 -- index:157551 --> BDCM Phase:S dropped\n",
      "event: 7682 -- index:160055 --> LOCM Phase:S dropped\n",
      "event: 8107 -- index:171996 --> MGAI Phase:S dropped\n",
      "event: 8153 -- index:173445 --> KMBFM Phase:S dropped\n",
      "event: 8153 -- index:173448 --> OMBFM Phase:S dropped\n",
      "event: 8153 -- index:173455 --> LBNFM Phase:S dropped\n",
      "event: 8153 -- index:173458 --> DBNFM Phase:S dropped\n",
      "event: 8286 -- index:177538 --> TPCI Phase:S dropped\n",
      "event: 8294 -- index:177769 --> WMCM Phase:S dropped\n",
      "event: 8450 -- index:182308 --> BDCM Phase:S dropped\n",
      "event: 8490 -- index:183450 --> RDCM Phase:S dropped\n",
      "event: 8557 -- index:185575 --> GTOI Phase:S dropped\n",
      "event: 8574 -- index:185984 --> BBCI Phase:S dropped\n",
      "event: 8578 -- index:186171 --> SANI Phase:S dropped\n",
      "event: 8965 -- index:198288 --> UKCM Phase:S dropped\n",
      "event: 9019 -- index:199998 --> LBFI Phase:S dropped\n",
      "event: 9096 -- index:202742 --> PDLI Phase:S dropped\n",
      "event: 9104 -- index:203037 --> BUKI Phase:S dropped\n",
      "event: 9303 -- index:209320 --> TBMCM Phase:S dropped\n",
      "event: 9310 -- index:209465 --> PSSI Phase:S dropped\n",
      "event: 9329 -- index:209987 --> BUKI Phase:S dropped\n",
      "event: 9445 -- index:213681 --> IHMI Phase:S dropped\n",
      "event: 9460 -- index:214084 --> PSSI Phase:S dropped\n",
      "event: 9716 -- index:222671 --> APSI Phase:S dropped\n",
      "event: 9786 -- index:224970 --> LUWI Phase:S dropped\n",
      "event: 9847 -- index:226889 --> MMCI Phase:S dropped\n",
      "event: 9924 -- index:229109 --> BNSI Phase:S dropped\n",
      "event: 9948 -- index:229860 --> POCI Phase:S dropped\n",
      "event: 9948 -- index:229862 --> LUCM Phase:S dropped\n",
      "event: 10253 -- index:238483 --> LBMI Phase:S dropped\n",
      "event: 10316 -- index:240192 --> JHMI Phase:S dropped\n"
     ]
    }
   ],
   "source": [
    "# buat tempat data hasil\n",
    "df_result = pd.DataFrame([],columns = df.columns)\n",
    "\n",
    "# pha index iterable\n",
    "idx = df[df[0] == '#'].index\n",
    "\n",
    "for idx_ in range (len(idx)):\n",
    "# for idx_ in [1099]:\n",
    "# for idx_ in [0,1,2,3]:\n",
    "    # buat data per kejadian gempa\n",
    "    if idx_ == len(idx)-1:\n",
    "        tempdf = df.iloc[idx[idx_]::]\n",
    "    else:\n",
    "        tempdf = df.iloc[idx[idx_]:idx[idx_+1],:]\n",
    "    # cek index header terhadap editable_idx\n",
    "    if tempdf.index[0] in editable_idx:\n",
    "        # proses delete data fasa S stasiun yang ts-tp diluar batas deviasi\n",
    "        for i, row_ in tempdf.iterrows():\n",
    "            # cari fasa S dan list stasiun yang masuk dalam membuat hasil wadati buruk \n",
    "            if row_[3]=='S' and row_[0] in (dfwadati[(dfwadati['event_id'] == int(tempdf.iloc[0,14])) & (dfwadati['result'] == False)]['sta'].to_list()):\n",
    "                print(f'event: {tempdf.iloc[0,14]} -- index:{row_.name} --> {row_[0]} Phase:{row_[3]} dropped')\n",
    "                tempdf.drop(row_.name,inplace=True)\n",
    "    else:\n",
    "        pass\n",
    "    # masukkan hasil ke df hasil\n",
    "    df_result = pd.concat([df_result,tempdf])"
   ]
  },
  {
   "cell_type": "code",
   "execution_count": 8,
   "metadata": {},
   "outputs": [
    {
     "name": "stdout",
     "output_type": "stream",
     "text": [
      "Output finish: temppha_phase_sul_2022_8P_fix_wadatifilter.dat at G:\\My Drive\\Tomography\\270423\\\n",
      "== data filter\n",
      "! temppha_phase_sul_2022_8P_fix_wadatifilter.dat\n",
      "---------------------------\n",
      "start time        : 2017-01-02 17:16:39.400000\n",
      "end time          : 2022-12-31 22:21:43.900000\n",
      "minimum magnitude : 2.5\n",
      "maximum magnitude : 7.39\n",
      "minimum depth     : 1 km\n",
      "maximum depth     : 750 km\n",
      "station used      : 137\n",
      "---------------------------\n",
      "Event :  10421\n",
      "Phase : 232646\n",
      "-- P  : 192121\n",
      "-- S  :  40226\n",
      "-- Pg :    155\n",
      "-- Sg :    119\n",
      "-- Pn :     18\n",
      "-- pP :      7\n",
      "---------------------------\n"
     ]
    }
   ],
   "source": [
    "# perbaiki df_result dan simpan dalam bentuk pha\n",
    "df_result.sort_index(inplace = True)\n",
    "df_result.reset_index(inplace = True, drop = True)\n",
    "df2dat(df_result,evnum = 1, path = path, fname=Path(fname).stem+'_wadatifilter.dat')\n",
    "print(\"== data filter\")\n",
    "readeventphase(path+Path(fname).stem+'_wadatifilter.dat')"
   ]
  }
 ],
 "metadata": {
  "kernelspec": {
   "display_name": "geo_env",
   "language": "python",
   "name": "python3"
  },
  "language_info": {
   "codemirror_mode": {
    "name": "ipython",
    "version": 3
   },
   "file_extension": ".py",
   "mimetype": "text/x-python",
   "name": "python",
   "nbconvert_exporter": "python",
   "pygments_lexer": "ipython3",
   "version": "3.9.9"
  },
  "orig_nbformat": 4,
  "vscode": {
   "interpreter": {
    "hash": "7cd9f3d74a51e72086e77b3ce90e589f910722e5e51eb1f41674a3c810498522"
   }
  }
 },
 "nbformat": 4,
 "nbformat_minor": 2
}
