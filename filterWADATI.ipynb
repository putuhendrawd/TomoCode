{
 "cells": [
  {
   "cell_type": "code",
   "execution_count": 1,
   "metadata": {},
   "outputs": [
    {
     "data": {
      "text/plain": [
       "'\\nCoding: PYTHON UTF-8\\nCreated On: 2023-04-28 12:39:30\\nAuthor: Putu Hendra Widyadharma\\n=== filter .pha using wadati result from makeWADATI \\n'"
      ]
     },
     "execution_count": 1,
     "metadata": {},
     "output_type": "execute_result"
    }
   ],
   "source": [
    "'''\n",
    "Coding: PYTHON UTF-8\n",
    "Created On: 2023-04-28 12:39:30\n",
    "Author: Putu Hendra Widyadharma\n",
    "=== filter .pha using wadati result from makeWADATI \n",
    "'''"
   ]
  },
  {
   "cell_type": "code",
   "execution_count": 2,
   "metadata": {},
   "outputs": [],
   "source": [
    "import numpy as np\n",
    "import pandas as pd\n",
    "from sklearn.metrics import r2_score\n",
    "from localfunction import *\n",
    "pd.options.mode.chained_assignment = None"
   ]
  },
  {
   "cell_type": "code",
   "execution_count": 3,
   "metadata": {},
   "outputs": [],
   "source": [
    "path = 'G:\\\\My Drive\\\\Tomography\\\\280423\\\\output-tomodd-relocvelest-damp130-28042023\\\\'\n",
    "fname = 'phase_sul_2022_8P_fix_sta-rms5.dat'\n",
    "fname2 = 'temppha_phase_sul_2022_8P_fix_sta-rms5.txt'\n",
    "fname3 = 'tempwadati_phase_sul_2022_8P_fix_sta-rms5.txt'\n",
    "deviation = 9.5"
   ]
  },
  {
   "cell_type": "code",
   "execution_count": 4,
   "metadata": {},
   "outputs": [],
   "source": [
    "df = readabsolute(path+fname)\n",
    "dfphase = pd.read_csv(path+fname2,delim_whitespace=True)\n",
    "dfwadati = pd.read_csv(path+fname3,delim_whitespace=True)"
   ]
  },
  {
   "cell_type": "code",
   "execution_count": 5,
   "metadata": {},
   "outputs": [
    {
     "name": "stdout",
     "output_type": "stream",
     "text": [
      "VP/VS = 1.7653324367545147\n",
      "R-square = 0.9755771631288414\n"
     ]
    }
   ],
   "source": [
    "# hitung dan buat persamaan pembatas \n",
    "slope, intercept = np.polyfit(dfwadati['tp'].astype(float),dfwadati['ts-tp'].astype(float),1)\n",
    "\n",
    "# predict function\n",
    "predict = np.poly1d([slope, intercept])\n",
    "# predict with deviation\n",
    "predictup = np.poly1d([slope,intercept+deviation])\n",
    "predictdown = np.poly1d([slope,intercept-deviation])\n",
    "\n",
    "# hitung R^2 menguji kecocokan regresi\n",
    "r2 = r2_score(dfwadati['ts-tp'],predict(dfwadati['tp']))\n",
    "print('VP/VS = ' + str(slope + 1))\n",
    "print(f\"R-square = {r2}\")"
   ]
  },
  {
   "cell_type": "code",
   "execution_count": 6,
   "metadata": {},
   "outputs": [],
   "source": [
    "### dfwadati processing\n",
    "# fungsi seleksi data berdasarkan batas atas dan bawah deviasi\n",
    "def selection_data(row):\n",
    "    if (row['ts-tp'] <= predictup(row['tp'])) and (row['ts-tp'] >= predictdown(row['tp'])):\n",
    "        return True\n",
    "    else:\n",
    "        return False\n",
    "# apply perhitungan\n",
    "dfwadati['result'] = dfwadati.apply(selection_data,axis=1)\n",
    "# select wadati hanya pada event yang perlu diubah\n",
    "dfwadati = dfwadati[dfwadati['event_id'].isin(dfwadati[dfwadati['result'] == False]['event_id'].unique())]"
   ]
  },
  {
   "cell_type": "code",
   "execution_count": 7,
   "metadata": {},
   "outputs": [
    {
     "data": {
      "text/plain": [
       "Int64Index([ 17670,  39855,  42761,  49187,  49780,  54517,  56727,  61629,\n",
       "             62294,  63963,  65792,  65832,  66268,  76167,  85090,  93991,\n",
       "             94923,  96299,  97449, 100481, 102172, 103661, 105042, 109854,\n",
       "            114636, 115814, 120764, 124919, 124955, 126667, 130394, 131327,\n",
       "            137130],\n",
       "           dtype='int64')"
      ]
     },
     "execution_count": 7,
     "metadata": {},
     "output_type": "execute_result"
    }
   ],
   "source": [
    "# index search untuk event_id yang perlu disesuaikan menurut wadati \n",
    "editable_idx = df[df[0] == '#'][14].astype('int64').isin(dfwadati['event_id'].unique())\n",
    "editable_idx = editable_idx[editable_idx==True].index\n",
    "editable_idx"
   ]
  },
  {
   "cell_type": "code",
   "execution_count": 8,
   "metadata": {},
   "outputs": [
    {
     "name": "stdout",
     "output_type": "stream",
     "text": [
      "event: 1100 -- index:17672 --> TMSI Phase:S dropped\n",
      "event: 2628 -- index:39870 --> GTOI Phase:S dropped\n",
      "event: 2869 -- index:42768 --> SGSI Phase:S dropped\n",
      "event: 3449 -- index:49198 --> SPSI Phase:S dropped\n",
      "event: 3501 -- index:49788 --> SPSI Phase:S dropped\n",
      "event: 3813 -- index:54524 --> PMSI Phase:S dropped\n",
      "event: 3938 -- index:56729 --> TNTI Phase:S dropped\n",
      "event: 4207 -- index:61633 --> KMSI Phase:S dropped\n",
      "event: 4207 -- index:61638 --> SRSI Phase:S dropped\n",
      "event: 4207 -- index:61640 --> TOLI2 Phase:S dropped\n",
      "event: 4240 -- index:62298 --> MRSI Phase:S dropped\n",
      "event: 4240 -- index:62300 --> LUWI Phase:S dropped\n",
      "event: 4328 -- index:63967 --> TMSI Phase:S dropped\n",
      "event: 4423 -- index:65800 --> PSSI Phase:S dropped\n",
      "event: 4426 -- index:65834 --> KMSI Phase:S dropped\n",
      "event: 4444 -- index:66286 --> LUWI Phase:S dropped\n",
      "event: 5256 -- index:76170 --> MPSI Phase:S dropped\n",
      "event: 5256 -- index:76172 --> LOCM Phase:S dropped\n",
      "event: 6006 -- index:85118 --> SDCI Phase:S dropped\n",
      "event: 6834 -- index:94011 --> MMCI Phase:S dropped\n",
      "event: 6913 -- index:94940 --> LUWI Phase:S dropped\n",
      "event: 7048 -- index:96301 --> LOCM Phase:S dropped\n",
      "event: 7048 -- index:96303 --> LUCM Phase:S dropped\n",
      "event: 7048 -- index:96305 --> POCI Phase:S dropped\n",
      "event: 7048 -- index:96307 --> RDCM Phase:S dropped\n",
      "event: 7155 -- index:97451 --> PSSI Phase:S dropped\n",
      "event: 7404 -- index:100487 --> LOCM Phase:S dropped\n",
      "event: 7404 -- index:100489 --> TOCM Phase:S dropped\n",
      "event: 7404 -- index:100491 --> SRSI Phase:S dropped\n",
      "event: 7535 -- index:102181 --> PSSI Phase:S dropped\n",
      "event: 7619 -- index:103674 --> BLCM Phase:S dropped\n",
      "event: 7619 -- index:103682 --> BDCM Phase:S dropped\n",
      "event: 7682 -- index:105061 --> LOCM Phase:S dropped\n",
      "event: 8107 -- index:109874 --> MGAI Phase:S dropped\n",
      "event: 8490 -- index:114639 --> RDCM Phase:S dropped\n",
      "event: 8578 -- index:115822 --> SANI Phase:S dropped\n",
      "event: 8965 -- index:120768 --> UKCM Phase:S dropped\n",
      "event: 9303 -- index:124925 --> TBMCM Phase:S dropped\n",
      "event: 9310 -- index:124963 --> PSSI Phase:S dropped\n",
      "event: 9445 -- index:126681 --> IHMI Phase:S dropped\n",
      "event: 9716 -- index:130408 --> APSI Phase:S dropped\n",
      "event: 9786 -- index:131342 --> LUWI Phase:S dropped\n",
      "event: 10316 -- index:137142 --> JHMI Phase:S dropped\n"
     ]
    }
   ],
   "source": [
    "# buat tempat data hasil\n",
    "df_result = pd.DataFrame([],columns = df.columns)\n",
    "\n",
    "# pha index iterable\n",
    "idx = df[df[0] == '#'].index\n",
    "\n",
    "for idx_ in range (len(idx)):\n",
    "# for idx_ in [1099]:\n",
    "# for idx_ in [0,1,2,3]:\n",
    "    # buat data per kejadian gempa\n",
    "    if idx_ == len(idx)-1:\n",
    "        tempdf = df.iloc[idx[idx_]::]\n",
    "    else:\n",
    "        tempdf = df.iloc[idx[idx_]:idx[idx_+1],:]\n",
    "    # cek index header terhadap editable_idx\n",
    "    if tempdf.index[0] in editable_idx:\n",
    "        # proses delete data fasa S stasiun yang ts-tp diluar batas deviasi\n",
    "        for i, row_ in tempdf.iterrows():\n",
    "            # cari fasa S dan list stasiun yang masuk dalam membuat hasil wadati buruk \n",
    "            if row_[3]=='S' and row_[0] in (dfwadati[(dfwadati['event_id'] == int(tempdf.iloc[0,14])) & (dfwadati['result'] == False)]['sta'].to_list()):\n",
    "                print(f'event: {tempdf.iloc[0,14]} -- index:{row_.name} --> {row_[0]} Phase:{row_[3]} dropped')\n",
    "                tempdf.drop(row_.name,inplace=True)\n",
    "    else:\n",
    "        pass\n",
    "    # masukkan hasil ke df hasil\n",
    "    df_result = pd.concat([df_result,tempdf])"
   ]
  },
  {
   "cell_type": "code",
   "execution_count": 9,
   "metadata": {},
   "outputs": [
    {
     "name": "stdout",
     "output_type": "stream",
     "text": [
      "Output finish: phase_sul_2022_8P_fix_sta-rms5_wadatifilter.dat at G:\\My Drive\\Tomography\\280423\\output-tomodd-relocvelest-damp130-28042023\\\n",
      "== data filter\n",
      "! phase_sul_2022_8P_fix_sta-rms5_wadatifilter.dat\n",
      "---------------------------\n",
      "start time        : 2017-01-02 17:16:39.400000\n",
      "end time          : 2022-12-31 22:21:43.900000\n",
      "minimum magnitude : 2.5\n",
      "maximum magnitude : 7.39\n",
      "minimum depth     : 1 km\n",
      "maximum depth     : 750 km\n",
      "station used      : 128\n",
      "---------------------------\n",
      "Event :  10421\n",
      "Phase : 127774\n",
      "-- P  : 103494\n",
      "-- S  :  24101\n",
      "-- Pg :    103\n",
      "-- Sg :     60\n",
      "-- Pn :     15\n",
      "-- pP :      1\n",
      "---------------------------\n"
     ]
    }
   ],
   "source": [
    "# perbaiki df_result dan simpan dalam bentuk pha\n",
    "df_result.sort_index(inplace = True)\n",
    "df_result.reset_index(inplace = True, drop = True)\n",
    "df2dat(df_result,evnum = 1, path = path, fname=Path(fname).stem+'_wadatifilter.dat')\n",
    "print(\"== data filter\")\n",
    "readeventphase(path+Path(fname).stem+'_wadatifilter.dat')"
   ]
  }
 ],
 "metadata": {
  "kernelspec": {
   "display_name": "geo_env",
   "language": "python",
   "name": "python3"
  },
  "language_info": {
   "codemirror_mode": {
    "name": "ipython",
    "version": 3
   },
   "file_extension": ".py",
   "mimetype": "text/x-python",
   "name": "python",
   "nbconvert_exporter": "python",
   "pygments_lexer": "ipython3",
   "version": "3.9.9"
  },
  "orig_nbformat": 4,
  "vscode": {
   "interpreter": {
    "hash": "7cd9f3d74a51e72086e77b3ce90e589f910722e5e51eb1f41674a3c810498522"
   }
  }
 },
 "nbformat": 4,
 "nbformat_minor": 2
}
